{
 "cells": [
  {
   "cell_type": "markdown",
   "id": "3fc4f06c",
   "metadata": {},
   "source": [
    "# 1"
   ]
  },
  {
   "cell_type": "code",
   "execution_count": 3,
   "id": "085825c8",
   "metadata": {},
   "outputs": [
    {
     "name": "stdout",
     "output_type": "stream",
     "text": [
      "enter  hrs:42\n",
      "enter minute:30\n",
      "the given time when converted in seconds is  153000.0\n"
     ]
    }
   ],
   "source": [
    "#q1 Convert given hrs & mins in second \n",
    "a=float(input(\"enter  hrs:\"))\n",
    "b=float(input('enter minute:'))\n",
    "hours= a*60*60\n",
    "minute= b*60\n",
    "seconds= hours+minute\n",
    "print(\"the given time when converted in seconds is \",seconds)"
   ]
  },
  {
   "cell_type": "markdown",
   "id": "125115c4",
   "metadata": {},
   "source": [
    "# 2"
   ]
  },
  {
   "cell_type": "code",
   "execution_count": 4,
   "id": "b0be7c3d",
   "metadata": {},
   "outputs": [
    {
     "name": "stdout",
     "output_type": "stream",
     "text": [
      "25.0\n"
     ]
    }
   ],
   "source": [
    "def avg(*h):\n",
    "    avg=sum(h)/len(h)\n",
    "    print(avg)\n",
    "avg(10,20,30,40)"
   ]
  },
  {
   "cell_type": "markdown",
   "id": "11116381",
   "metadata": {},
   "source": [
    "# 4"
   ]
  },
  {
   "cell_type": "code",
   "execution_count": 5,
   "id": "0de7321d",
   "metadata": {},
   "outputs": [
    {
     "name": "stdout",
     "output_type": "stream",
     "text": [
      "Enter the numberr: 1\n",
      "one\n"
     ]
    }
   ],
   "source": [
    "a=input(\"Enter the numberr: \")\n",
    "for i in a:\n",
    "    if int(i)==1:\n",
    "        print(\"one\")\n",
    "    elif int(i)==2:\n",
    "        print(\"Two\")\n",
    "    elif int(i)==3:\n",
    "        print(\"Three\")\n",
    "    elif int(i)==4:\n",
    "        print(\"Four\")"
   ]
  },
  {
   "cell_type": "markdown",
   "id": "896a660d",
   "metadata": {},
   "source": [
    "# 5"
   ]
  },
  {
   "cell_type": "code",
   "execution_count": 9,
   "id": "05acfc84",
   "metadata": {},
   "outputs": [
    {
     "name": "stdout",
     "output_type": "stream",
     "text": [
      "5\n",
      "2\n",
      "6\n",
      "2.0\n"
     ]
    }
   ],
   "source": [
    "class Maths:\n",
    "    def Add(self,a,b):\n",
    "        self.add=a+b\n",
    "        print(self.add)\n",
    "    def sub(self,a,b):\n",
    "        self.sub=a-b\n",
    "        print(self.sub)\n",
    "    def mul(self,a,b):\n",
    "        self.pro=a*b\n",
    "        print(self.pro)\n",
    "    def div(self,a,b):\n",
    "        self.divi=float(a/b)\n",
    "        print(self.divi)\n",
    "        \n",
    "a=Maths()\n",
    "a.Add(2,3)\n",
    "a.sub(4,2)\n",
    "a.mul(2,3)\n",
    "a.div(4,2)\n",
    "\n",
    "        \n"
   ]
  },
  {
   "cell_type": "markdown",
   "id": "a12aadae",
   "metadata": {},
   "source": [
    "# 6"
   ]
  },
  {
   "cell_type": "code",
   "execution_count": 10,
   "id": "310daf2f",
   "metadata": {},
   "outputs": [
    {
     "name": "stdout",
     "output_type": "stream",
     "text": [
      "1\n",
      "333\n",
      "55555\n",
      "666666\n",
      "7777777\n"
     ]
    }
   ],
   "source": [
    "for i in range(1,8):\n",
    "    if i==2 or i==4:\n",
    "        continue\n",
    "    for j in range(1,i+1):\n",
    "        print(i,end=\"\")\n",
    "    print()"
   ]
  },
  {
   "cell_type": "markdown",
   "id": "9d975c52",
   "metadata": {},
   "source": [
    "# 9"
   ]
  },
  {
   "cell_type": "code",
   "execution_count": 11,
   "id": "db26ac90",
   "metadata": {},
   "outputs": [
    {
     "name": "stdout",
     "output_type": "stream",
     "text": [
      "hsi  et"
     ]
    }
   ],
   "source": [
    "a=\"This is a test\"\n",
    "for i in range(len(a)):\n",
    "    if i%2!=0:\n",
    "        print(a[i],end=\"\")\n",
    "        "
   ]
  },
  {
   "cell_type": "code",
   "execution_count": null,
   "id": "4e1caa3c",
   "metadata": {},
   "outputs": [],
   "source": []
  }
 ],
 "metadata": {
  "kernelspec": {
   "display_name": "Python 3 (ipykernel)",
   "language": "python",
   "name": "python3"
  },
  "language_info": {
   "codemirror_mode": {
    "name": "ipython",
    "version": 3
   },
   "file_extension": ".py",
   "mimetype": "text/x-python",
   "name": "python",
   "nbconvert_exporter": "python",
   "pygments_lexer": "ipython3",
   "version": "3.9.7"
  }
 },
 "nbformat": 4,
 "nbformat_minor": 5
}
